{
  "nbformat": 4,
  "nbformat_minor": 0,
  "metadata": {
    "colab": {
      "name": "Untitled0.ipynb",
      "provenance": []
    },
    "kernelspec": {
      "name": "python3",
      "display_name": "Python 3"
    },
    "language_info": {
      "name": "python"
    }
  },
  "cells": [
    {
      "cell_type": "markdown",
      "metadata": {
        "id": "iiVH1GoKFl_4"
      },
      "source": [
        "**LOAN REPAYMENT PREDICTION**\n",
        "             \n",
        "             \n",
        "To find out if customers are going to return the loan they took from the bank or not."
      ]
    },
    {
      "cell_type": "code",
      "metadata": {
        "id": "3ztPaUr5GCVa"
      },
      "source": [
        "import numpy as np\n",
        "import pandas as pd\n",
        "from sklearn.model_selection import train_test_split\n",
        "from sklearn.tree import DecisionTreeClassifier\n",
        "from sklearn.metrics import accuracy_score\n",
        "from sklearn import tree"
      ],
      "execution_count": 9,
      "outputs": []
    },
    {
      "cell_type": "code",
      "metadata": {
        "id": "9E5mNwALHD00"
      },
      "source": [
        "data=pd.read_csv('/content/Decision_Tree_ Dataset.csv',sep=',',header=0)"
      ],
      "execution_count": 10,
      "outputs": []
    },
    {
      "cell_type": "code",
      "metadata": {
        "colab": {
          "base_uri": "https://localhost:8080/"
        },
        "id": "GuuC0oJjIZxT",
        "outputId": "048f2713-164b-4993-9ea0-c89a35397bb1"
      },
      "source": [
        "print (\"Dataset Lenght:: \"), len(data)\n",
        "print (\"Dataset Shape:: \"), data.shape"
      ],
      "execution_count": 11,
      "outputs": [
        {
          "output_type": "stream",
          "name": "stdout",
          "text": [
            "Dataset Lenght:: \n",
            "Dataset Shape:: \n"
          ]
        },
        {
          "output_type": "execute_result",
          "data": {
            "text/plain": [
              "(None, (1000, 6))"
            ]
          },
          "metadata": {},
          "execution_count": 11
        }
      ]
    },
    {
      "cell_type": "code",
      "metadata": {
        "colab": {
          "base_uri": "https://localhost:8080/",
          "height": 203
        },
        "id": "GpMBnaubIpS2",
        "outputId": "5bb0dad7-3bc3-42bf-9648-6baeec33affe"
      },
      "source": [
        "data.head()"
      ],
      "execution_count": 12,
      "outputs": [
        {
          "output_type": "execute_result",
          "data": {
            "text/html": [
              "<div>\n",
              "<style scoped>\n",
              "    .dataframe tbody tr th:only-of-type {\n",
              "        vertical-align: middle;\n",
              "    }\n",
              "\n",
              "    .dataframe tbody tr th {\n",
              "        vertical-align: top;\n",
              "    }\n",
              "\n",
              "    .dataframe thead th {\n",
              "        text-align: right;\n",
              "    }\n",
              "</style>\n",
              "<table border=\"1\" class=\"dataframe\">\n",
              "  <thead>\n",
              "    <tr style=\"text-align: right;\">\n",
              "      <th></th>\n",
              "      <th>1</th>\n",
              "      <th>2</th>\n",
              "      <th>3</th>\n",
              "      <th>4</th>\n",
              "      <th>sum</th>\n",
              "      <th>Unnamed: 5</th>\n",
              "    </tr>\n",
              "  </thead>\n",
              "  <tbody>\n",
              "    <tr>\n",
              "      <th>0</th>\n",
              "      <td>201</td>\n",
              "      <td>10018</td>\n",
              "      <td>250</td>\n",
              "      <td>3046</td>\n",
              "      <td>13515</td>\n",
              "      <td>yes</td>\n",
              "    </tr>\n",
              "    <tr>\n",
              "      <th>1</th>\n",
              "      <td>205</td>\n",
              "      <td>10016</td>\n",
              "      <td>395</td>\n",
              "      <td>3044</td>\n",
              "      <td>13660</td>\n",
              "      <td>yes</td>\n",
              "    </tr>\n",
              "    <tr>\n",
              "      <th>2</th>\n",
              "      <td>257</td>\n",
              "      <td>10129</td>\n",
              "      <td>109</td>\n",
              "      <td>3251</td>\n",
              "      <td>13746</td>\n",
              "      <td>yes</td>\n",
              "    </tr>\n",
              "    <tr>\n",
              "      <th>3</th>\n",
              "      <td>246</td>\n",
              "      <td>10064</td>\n",
              "      <td>324</td>\n",
              "      <td>3137</td>\n",
              "      <td>13771</td>\n",
              "      <td>yes</td>\n",
              "    </tr>\n",
              "    <tr>\n",
              "      <th>4</th>\n",
              "      <td>117</td>\n",
              "      <td>10115</td>\n",
              "      <td>496</td>\n",
              "      <td>3094</td>\n",
              "      <td>13822</td>\n",
              "      <td>yes</td>\n",
              "    </tr>\n",
              "  </tbody>\n",
              "</table>\n",
              "</div>"
            ],
            "text/plain": [
              "     1      2    3     4    sum Unnamed: 5\n",
              "0  201  10018  250  3046  13515        yes\n",
              "1  205  10016  395  3044  13660        yes\n",
              "2  257  10129  109  3251  13746        yes\n",
              "3  246  10064  324  3137  13771        yes\n",
              "4  117  10115  496  3094  13822        yes"
            ]
          },
          "metadata": {},
          "execution_count": 12
        }
      ]
    },
    {
      "cell_type": "code",
      "metadata": {
        "id": "ZDnyvSnDM7FD"
      },
      "source": [
        "X= data.values[:,0:5]\n",
        "Y=data.values[:,5]"
      ],
      "execution_count": 15,
      "outputs": []
    },
    {
      "cell_type": "code",
      "metadata": {
        "id": "ph6IFQGZNejZ"
      },
      "source": [
        "x_train,x_test,y_train,y_test= train_test_split(X,Y,test_size=0.3,random_state=100)"
      ],
      "execution_count": 16,
      "outputs": []
    },
    {
      "cell_type": "code",
      "metadata": {
        "colab": {
          "base_uri": "https://localhost:8080/"
        },
        "id": "_YTNmNHsN7OW",
        "outputId": "80002ca5-dc57-4565-cd18-b51dd2f250fa"
      },
      "source": [
        "clf_entropy = DecisionTreeClassifier(criterion = \"entropy\", random_state = 100,\n",
        " max_depth=3, min_samples_leaf=5)\n",
        "clf_entropy.fit(x_train, y_train)"
      ],
      "execution_count": 17,
      "outputs": [
        {
          "output_type": "execute_result",
          "data": {
            "text/plain": [
              "DecisionTreeClassifier(ccp_alpha=0.0, class_weight=None, criterion='entropy',\n",
              "                       max_depth=3, max_features=None, max_leaf_nodes=None,\n",
              "                       min_impurity_decrease=0.0, min_impurity_split=None,\n",
              "                       min_samples_leaf=5, min_samples_split=2,\n",
              "                       min_weight_fraction_leaf=0.0, presort='deprecated',\n",
              "                       random_state=100, splitter='best')"
            ]
          },
          "metadata": {},
          "execution_count": 17
        }
      ]
    },
    {
      "cell_type": "code",
      "metadata": {
        "colab": {
          "base_uri": "https://localhost:8080/"
        },
        "id": "2qUoVjmfOCM-",
        "outputId": "33bf379b-50f7-403b-eb8b-bafc85473fe6"
      },
      "source": [
        "y_pred_en = clf_entropy.predict(x_test)\n",
        "y_pred_en"
      ],
      "execution_count": 18,
      "outputs": [
        {
          "output_type": "execute_result",
          "data": {
            "text/plain": [
              "array(['yes', 'yes', 'No', 'yes', 'No', 'yes', 'No', 'No', 'No', 'No',\n",
              "       'No', 'No', 'yes', 'No', 'No', 'yes', 'yes', 'No', 'yes', 'No',\n",
              "       'No', 'yes', 'No', 'yes', 'yes', 'No', 'No', 'yes', 'No', 'No',\n",
              "       'No', 'yes', 'yes', 'yes', 'yes', 'No', 'No', 'No', 'yes', 'yes',\n",
              "       'yes', 'yes', 'yes', 'No', 'No', 'yes', 'No', 'yes', 'No', 'No',\n",
              "       'yes', 'No', 'yes', 'yes', 'yes', 'yes', 'No', 'No', 'No', 'yes',\n",
              "       'yes', 'No', 'No', 'yes', 'No', 'yes', 'yes', 'yes', 'No', 'yes',\n",
              "       'No', 'No', 'No', 'yes', 'No', 'yes', 'yes', 'No', 'yes', 'No',\n",
              "       'No', 'No', 'No', 'yes', 'No', 'yes', 'No', 'No', 'yes', 'No',\n",
              "       'yes', 'yes', 'No', 'yes', 'yes', 'No', 'yes', 'yes', 'yes', 'yes',\n",
              "       'No', 'No', 'yes', 'No', 'No', 'yes', 'yes', 'yes', 'No', 'yes',\n",
              "       'yes', 'yes', 'yes', 'No', 'No', 'yes', 'yes', 'yes', 'No', 'yes',\n",
              "       'No', 'No', 'yes', 'yes', 'No', 'No', 'yes', 'yes', 'No', 'No',\n",
              "       'yes', 'yes', 'No', 'yes', 'yes', 'yes', 'No', 'yes', 'yes', 'No',\n",
              "       'No', 'yes', 'yes', 'yes', 'No', 'yes', 'yes', 'yes', 'yes', 'No',\n",
              "       'yes', 'No', 'No', 'No', 'No', 'yes', 'No', 'No', 'No', 'yes',\n",
              "       'No', 'No', 'yes', 'yes', 'No', 'yes', 'No', 'yes', 'No', 'No',\n",
              "       'yes', 'yes', 'No', 'yes', 'No', 'yes', 'yes', 'No', 'No', 'No',\n",
              "       'No', 'No', 'yes', 'No', 'No', 'yes', 'yes', 'yes', 'yes', 'yes',\n",
              "       'No', 'yes', 'No', 'yes', 'No', 'No', 'No', 'yes', 'yes', 'No',\n",
              "       'No', 'yes', 'yes', 'No', 'No', 'No', 'yes', 'yes', 'No', 'No',\n",
              "       'yes', 'yes', 'yes', 'yes', 'yes', 'yes', 'yes', 'yes', 'yes',\n",
              "       'No', 'yes', 'yes', 'No', 'No', 'yes', 'No', 'yes', 'yes', 'No',\n",
              "       'No', 'yes', 'No', 'yes', 'yes', 'yes', 'yes', 'No', 'No', 'No',\n",
              "       'No', 'No', 'yes', 'No', 'yes', 'yes', 'No', 'yes', 'yes', 'No',\n",
              "       'No', 'No', 'yes', 'No', 'No', 'No', 'No', 'No', 'No', 'No', 'yes',\n",
              "       'yes', 'yes', 'yes', 'yes', 'yes', 'No', 'No', 'No', 'No', 'yes',\n",
              "       'No', 'yes', 'yes', 'yes', 'No', 'No', 'No', 'yes', 'yes', 'No',\n",
              "       'yes', 'No', 'No', 'No', 'yes', 'yes', 'No', 'No', 'yes', 'yes',\n",
              "       'No', 'No', 'yes', 'No', 'yes', 'yes', 'No', 'No', 'yes', 'yes'],\n",
              "      dtype=object)"
            ]
          },
          "metadata": {},
          "execution_count": 18
        }
      ]
    },
    {
      "cell_type": "code",
      "metadata": {
        "colab": {
          "base_uri": "https://localhost:8080/"
        },
        "id": "XCEC6lSAOIMY",
        "outputId": "bcf7fce8-6449-464a-c878-b9537cce3e6e"
      },
      "source": [
        "print (\"Accuracy is \"), accuracy_score(y_test,y_pred_en)*100"
      ],
      "execution_count": 20,
      "outputs": [
        {
          "output_type": "stream",
          "name": "stdout",
          "text": [
            "Accuracy is \n"
          ]
        },
        {
          "output_type": "execute_result",
          "data": {
            "text/plain": [
              "(None, 100.0)"
            ]
          },
          "metadata": {},
          "execution_count": 20
        }
      ]
    }
  ]
}