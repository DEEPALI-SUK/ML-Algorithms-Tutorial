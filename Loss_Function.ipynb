{
  "nbformat": 4,
  "nbformat_minor": 0,
  "metadata": {
    "colab": {
      "name": "Untitled18.ipynb",
      "provenance": []
    },
    "kernelspec": {
      "name": "python3",
      "display_name": "Python 3"
    },
    "language_info": {
      "name": "python"
    }
  },
  "cells": [
    {
      "cell_type": "markdown",
      "source": [
        "**Lost or Cost Function**"
      ],
      "metadata": {
        "id": "xLo8ryJRowDU"
      }
    },
    {
      "cell_type": "code",
      "execution_count": 1,
      "metadata": {
        "id": "2JI7q6EbopaI"
      },
      "outputs": [],
      "source": [
        "import numpy as np"
      ]
    },
    {
      "cell_type": "code",
      "source": [
        "y_pred = np.array([1,1,0,0,1])\n",
        "y_true = np.array([0.30,0.7,1,0,0.5])"
      ],
      "metadata": {
        "id": "_91pmANHpFLE"
      },
      "execution_count": 2,
      "outputs": []
    },
    {
      "cell_type": "markdown",
      "source": [
        "**Implementation of Mean Absolute Error**"
      ],
      "metadata": {
        "id": "-PtS4Zl0pMqE"
      }
    },
    {
      "cell_type": "code",
      "source": [
        "def mae(y_pred,y_true):\n",
        "  total_error=0\n",
        "  for yp,yt in zip(y_pred,y_true):\n",
        "    total_error+=abs(yp-yt)\n",
        "  mae=total_error/len(y_true)\n",
        "  print(\"MAE: \")\n",
        "  print(mae)"
      ],
      "metadata": {
        "id": "NftC1vXRpVJF"
      },
      "execution_count": 3,
      "outputs": []
    },
    {
      "cell_type": "code",
      "source": [
        "mae(y_pred,y_true)"
      ],
      "metadata": {
        "colab": {
          "base_uri": "https://localhost:8080/"
        },
        "id": "xwbO1WBEqSpv",
        "outputId": "3248d31b-ed4a-42f9-9d13-e78b038be30d"
      },
      "execution_count": 4,
      "outputs": [
        {
          "output_type": "stream",
          "name": "stdout",
          "text": [
            "MAE: \n",
            "0.5\n"
          ]
        }
      ]
    },
    {
      "cell_type": "markdown",
      "source": [
        "**Mae using numpy**"
      ],
      "metadata": {
        "id": "oEimllf_rUC0"
      }
    },
    {
      "cell_type": "code",
      "source": [
        "np.abs(y_pred-y_true)"
      ],
      "metadata": {
        "colab": {
          "base_uri": "https://localhost:8080/"
        },
        "id": "6eGdBUQDrYnl",
        "outputId": "36c6622b-6331-44d0-ec4b-9d982f4cd890"
      },
      "execution_count": 5,
      "outputs": [
        {
          "output_type": "execute_result",
          "data": {
            "text/plain": [
              "array([0.7, 0.3, 1. , 0. , 0.5])"
            ]
          },
          "metadata": {},
          "execution_count": 5
        }
      ]
    },
    {
      "cell_type": "code",
      "source": [
        "np.mean(np.abs(y_pred-y_true))"
      ],
      "metadata": {
        "colab": {
          "base_uri": "https://localhost:8080/"
        },
        "id": "1UMX8ZIkrkCo",
        "outputId": "d9790c14-f164-47b6-d554-be8449526a9c"
      },
      "execution_count": 6,
      "outputs": [
        {
          "output_type": "execute_result",
          "data": {
            "text/plain": [
              "0.5"
            ]
          },
          "metadata": {},
          "execution_count": 6
        }
      ]
    },
    {
      "cell_type": "markdown",
      "source": [
        "**Implementation of Log Loss or Binary Cross Entropy**"
      ],
      "metadata": {
        "id": "7yuxepYUrup1"
      }
    },
    {
      "cell_type": "code",
      "source": [
        "epsilon = 1e-15"
      ],
      "metadata": {
        "id": "VKhs4h_or4mb"
      },
      "execution_count": 7,
      "outputs": []
    },
    {
      "cell_type": "code",
      "source": [
        "1-epsilon"
      ],
      "metadata": {
        "colab": {
          "base_uri": "https://localhost:8080/"
        },
        "id": "41ds3RrtseHh",
        "outputId": "3e1825b5-37f4-4b29-9bb0-25552d34a309"
      },
      "execution_count": 8,
      "outputs": [
        {
          "output_type": "execute_result",
          "data": {
            "text/plain": [
              "0.999999999999999"
            ]
          },
          "metadata": {},
          "execution_count": 8
        }
      ]
    },
    {
      "cell_type": "code",
      "source": [
        "y_pred_new = [max(i,epsilon) for i in y_pred]\n",
        "y_pred_new"
      ],
      "metadata": {
        "colab": {
          "base_uri": "https://localhost:8080/"
        },
        "id": "Vq6WAwPmskq7",
        "outputId": "ee8c5b44-f85c-4a7a-954b-9230092542c5"
      },
      "execution_count": 9,
      "outputs": [
        {
          "output_type": "execute_result",
          "data": {
            "text/plain": [
              "[1, 1, 1e-15, 1e-15, 1]"
            ]
          },
          "metadata": {},
          "execution_count": 9
        }
      ]
    },
    {
      "cell_type": "code",
      "source": [
        "y_pred_new = [min(i,1-epsilon) for i in y_pred_new]\n",
        "y_pred_new"
      ],
      "metadata": {
        "colab": {
          "base_uri": "https://localhost:8080/"
        },
        "id": "Pnt3gIbostvc",
        "outputId": "6aa4ffb0-4934-4b40-ea1d-5cbceeabc627"
      },
      "execution_count": 10,
      "outputs": [
        {
          "output_type": "execute_result",
          "data": {
            "text/plain": [
              "[0.999999999999999, 0.999999999999999, 1e-15, 1e-15, 0.999999999999999]"
            ]
          },
          "metadata": {},
          "execution_count": 10
        }
      ]
    },
    {
      "cell_type": "code",
      "source": [
        "y_pred_new=np.array(y_pred_new)"
      ],
      "metadata": {
        "id": "Q_vN2cWHs6P_"
      },
      "execution_count": 11,
      "outputs": []
    },
    {
      "cell_type": "code",
      "source": [
        "np.log(y_pred_new)"
      ],
      "metadata": {
        "colab": {
          "base_uri": "https://localhost:8080/"
        },
        "id": "fgZbOjO7tBtb",
        "outputId": "bf61ce6d-9265-4ce2-8dfa-829253ae49db"
      },
      "execution_count": 12,
      "outputs": [
        {
          "output_type": "execute_result",
          "data": {
            "text/plain": [
              "array([-9.99200722e-16, -9.99200722e-16, -3.45387764e+01, -3.45387764e+01,\n",
              "       -9.99200722e-16])"
            ]
          },
          "metadata": {},
          "execution_count": 12
        }
      ]
    },
    {
      "cell_type": "code",
      "source": [
        "-np.mean(y_true*np.log(y_pred_new)+(1-y_true)*np.log(1-y_pred_new))"
      ],
      "metadata": {
        "colab": {
          "base_uri": "https://localhost:8080/"
        },
        "id": "jpWsT2tntKF6",
        "outputId": "a3a96baa-31a7-4034-a160-121dfe39296b"
      },
      "execution_count": 13,
      "outputs": [
        {
          "output_type": "execute_result",
          "data": {
            "text/plain": [
              "17.2696280766844"
            ]
          },
          "metadata": {},
          "execution_count": 13
        }
      ]
    },
    {
      "cell_type": "code",
      "source": [
        "def log_loss(y_true, y_predicted):\n",
        "    y_predicted_new = [max(i,epsilon) for i in y_pred]\n",
        "    y_predicted_new = [min(i,1-epsilon) for i in y_predicted_new]\n",
        "    y_predicted_new = np.array(y_predicted_new)\n",
        "    return -np.mean(y_true*np.log(y_predicted_new)+(1-y_true)*np.log(1-y_predicted_new))"
      ],
      "metadata": {
        "id": "bLdmE5j_tTQC"
      },
      "execution_count": 14,
      "outputs": []
    },
    {
      "cell_type": "code",
      "source": [
        "log_loss(y_true, y_pred)"
      ],
      "metadata": {
        "colab": {
          "base_uri": "https://localhost:8080/"
        },
        "id": "PFPXh7LZtZty",
        "outputId": "f1d9d127-a840-4256-ce1d-797b2fbe53ec"
      },
      "execution_count": 15,
      "outputs": [
        {
          "output_type": "execute_result",
          "data": {
            "text/plain": [
              "17.2696280766844"
            ]
          },
          "metadata": {},
          "execution_count": 15
        }
      ]
    },
    {
      "cell_type": "markdown",
      "source": [
        "**Mean Squared Error without numpy**"
      ],
      "metadata": {
        "id": "U3sU_U7NtnMI"
      }
    },
    {
      "cell_type": "code",
      "source": [
        "def mse(y_pred,y_true):\n",
        "  total_error=0\n",
        "  for yp,yt in zip(y_pred,y_true):\n",
        "    total_error+=(yp-yt)**2\n",
        "  mse=total_error/len(y_true)\n",
        "  print(\"MSE: \",mse)"
      ],
      "metadata": {
        "id": "m_dFbfu_ts4Z"
      },
      "execution_count": 16,
      "outputs": []
    },
    {
      "cell_type": "code",
      "source": [
        "mse(y_pred,y_true)"
      ],
      "metadata": {
        "colab": {
          "base_uri": "https://localhost:8080/"
        },
        "id": "LBxR1QHwt51I",
        "outputId": "f4ff7862-7ada-4694-dde4-820fe5f3a5ba"
      },
      "execution_count": 17,
      "outputs": [
        {
          "output_type": "stream",
          "name": "stdout",
          "text": [
            "MSE:  0.366\n"
          ]
        }
      ]
    },
    {
      "cell_type": "markdown",
      "source": [
        "**With Numpy**"
      ],
      "metadata": {
        "id": "KYMztrtEuA3b"
      }
    },
    {
      "cell_type": "code",
      "source": [
        "np.mean(np.square(y_pred-y_true))"
      ],
      "metadata": {
        "colab": {
          "base_uri": "https://localhost:8080/"
        },
        "id": "PsJjPxXOuEj1",
        "outputId": "4aa1f483-65a4-44cd-de56-23fe155784be"
      },
      "execution_count": 18,
      "outputs": [
        {
          "output_type": "execute_result",
          "data": {
            "text/plain": [
              "0.366"
            ]
          },
          "metadata": {},
          "execution_count": 18
        }
      ]
    }
  ]
}